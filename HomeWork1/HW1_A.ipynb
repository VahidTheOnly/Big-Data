{
 "cells": [
  {
   "cell_type": "markdown",
   "metadata": {},
   "source": [
    "<div style='text-align:center'>\n",
    "<h1><b>به نام خدا</b></h1>\n",
    "<h2>تمرین اول بیگ دیتا</h2>\n",
    "<h3>وحید ملکی</h3>\n",
    "</div>"
   ]
  },
  {
   "cell_type": "markdown",
   "metadata": {},
   "source": [
    "<div dir='rtl'>\n",
    "<h3>توضیحات:</h3>\n",
    "ابتدا کتابخانه های لازم را ایمپورت میکنیم.\n",
    "</div>"
   ]
  },
  {
   "cell_type": "code",
   "execution_count": 1,
   "metadata": {},
   "outputs": [],
   "source": [
    "from bson.json_util import dumps\n",
    "import pandas as pd\n",
    "import pymongo\n",
    "import json"
   ]
  },
  {
   "cell_type": "markdown",
   "metadata": {},
   "source": [
    "<div dir='rtl'>\n",
    "سپس با پایگاه داده ارتباط برقرار میکنیم.\n",
    "</div>"
   ]
  },
  {
   "cell_type": "code",
   "execution_count": 2,
   "metadata": {},
   "outputs": [],
   "source": [
    "myclient = pymongo.MongoClient(\"mongodb://localhost:27017/\")\n",
    "mydb = myclient[\"myDataBase\"]\n",
    "mycollec = mydb['customers']"
   ]
  },
  {
   "cell_type": "markdown",
   "metadata": {},
   "source": [
    "<div dir='rtl'>\n",
    "در کد زیر داده ها را از فایل store.txt میخوانیم و به دیتابیس اضافه میکنیم.\n",
    "ورودی تابع insert_many باید به صورت چندین دیکشنری باشد که کلید ها اسم ستون ها باید باشد و value مقدار آن باید باشد به همین دلیل هنگام خواندن فایل آن را ترنسپوز میکنیم تا به شکل مورد نیاز تبدیل شود.\n",
    "</div>"
   ]
  },
  {
   "cell_type": "code",
   "execution_count": 3,
   "metadata": {},
   "outputs": [],
   "source": [
    "shop_data = pd.read_csv('./Required datasets/store.txt', names=['Customer_id', 'goods_id', 'Price']).T\n",
    "data = shop_data.to_dict().values()\n",
    "x = mycollec.insert_many(data)"
   ]
  },
  {
   "cell_type": "markdown",
   "metadata": {},
   "source": [
    "<div dir='rtl'>\n",
    "با استفاده از قطعه کد زیر از پایگاه داده dump میگیریم.\n",
    "</div>"
   ]
  },
  {
   "cell_type": "code",
   "execution_count": 4,
   "metadata": {},
   "outputs": [],
   "source": [
    "cursor = mycollec.find()\n",
    "with open('collection.json', 'w') as file:\n",
    "    json.dump(json.loads(dumps(cursor)), file)"
   ]
  },
  {
   "cell_type": "markdown",
   "metadata": {},
   "source": [
    "<div dir='rtl'>\n",
    "روی customer_id یک index تعریف میکنیم.\n",
    "</div>"
   ]
  },
  {
   "cell_type": "code",
   "execution_count": 5,
   "metadata": {},
   "outputs": [
    {
     "data": {
      "text/plain": [
       "'Customer_id_1'"
      ]
     },
     "execution_count": 5,
     "metadata": {},
     "output_type": "execute_result"
    }
   ],
   "source": [
    "mycollec.create_index([(\"Customer_id\", pymongo.ASCENDING)])"
   ]
  },
  {
   "cell_type": "markdown",
   "metadata": {},
   "source": [
    "<div dir='rtl'>\n",
    "کاربر با ایدی 50 کدام کالا ها را خریده است؟\n",
    "</div>"
   ]
  },
  {
   "cell_type": "code",
   "execution_count": 6,
   "metadata": {},
   "outputs": [
    {
     "name": "stdout",
     "output_type": "stream",
     "text": [
      "2882.0\n",
      "4921.0\n",
      "4445.0\n",
      "2139.0\n",
      "3645.0\n",
      "4596.0\n",
      "9813.0\n",
      "183.0\n",
      "953.0\n",
      "5300.0\n",
      "7538.0\n",
      "2366.0\n",
      "8533.0\n",
      "7855.0\n",
      "4660.0\n",
      "5334.0\n",
      "5963.0\n",
      "7394.0\n",
      "475.0\n",
      "7005.0\n",
      "7560.0\n",
      "7657.0\n",
      "1328.0\n",
      "4794.0\n",
      "7366.0\n",
      "1009.0\n",
      "2700.0\n",
      "4040.0\n",
      "2690.0\n",
      "824.0\n",
      "9843.0\n",
      "2353.0\n",
      "1809.0\n",
      "1619.0\n",
      "4681.0\n",
      "8853.0\n",
      "9390.0\n",
      "7881.0\n",
      "2978.0\n",
      "7404.0\n",
      "1777.0\n",
      "1652.0\n",
      "5973.0\n",
      "6653.0\n",
      "3503.0\n",
      "9208.0\n",
      "4537.0\n",
      "1867.0\n",
      "8201.0\n",
      "3760.0\n",
      "9145.0\n",
      "7061.0\n",
      "6175.0\n",
      "3796.0\n",
      "3094.0\n",
      "597.0\n",
      "5249.0\n",
      "2694.0\n",
      "7653.0\n",
      "4674.0\n",
      "3732.0\n",
      "3193.0\n",
      "4592.0\n",
      "2185.0\n",
      "4846.0\n",
      "4501.0\n",
      "8108.0\n",
      "1515.0\n",
      "3453.0\n",
      "2431.0\n",
      "831.0\n",
      "7104.0\n",
      "7459.0\n",
      "5021.0\n",
      "2634.0\n",
      "1392.0\n",
      "2283.0\n",
      "2435.0\n",
      "5228.0\n",
      "8675.0\n",
      "9113.0\n",
      "4623.0\n",
      "8449.0\n",
      "5846.0\n",
      "7317.0\n",
      "2758.0\n",
      "6699.0\n",
      "9251.0\n",
      "1462.0\n",
      "3261.0\n",
      "795.0\n",
      "4602.0\n",
      "506.0\n",
      "5359.0\n",
      "5857.0\n",
      "5863.0\n",
      "4407.0\n",
      "8969.0\n",
      "6487.0\n",
      "5138.0\n",
      "624.0\n",
      "1975.0\n",
      "3382.0\n",
      "409.0\n",
      "2782.0\n",
      "4920.0\n",
      "3281.0\n",
      "3725.0\n",
      "2191.0\n",
      "6778.0\n",
      "6185.0\n",
      "823.0\n",
      "2882.0\n",
      "4921.0\n",
      "4445.0\n",
      "2139.0\n",
      "3645.0\n",
      "4596.0\n",
      "9813.0\n",
      "183.0\n",
      "953.0\n",
      "5300.0\n",
      "7538.0\n",
      "2366.0\n",
      "8533.0\n",
      "7855.0\n",
      "4660.0\n",
      "5334.0\n",
      "5963.0\n",
      "7394.0\n",
      "475.0\n",
      "7005.0\n",
      "7560.0\n",
      "7657.0\n",
      "1328.0\n",
      "4794.0\n",
      "7366.0\n",
      "1009.0\n",
      "2700.0\n",
      "4040.0\n",
      "2690.0\n",
      "824.0\n",
      "9843.0\n",
      "2353.0\n",
      "1809.0\n",
      "1619.0\n",
      "4681.0\n",
      "8853.0\n",
      "9390.0\n",
      "7881.0\n",
      "2978.0\n",
      "7404.0\n",
      "1777.0\n",
      "1652.0\n",
      "5973.0\n",
      "6653.0\n",
      "3503.0\n",
      "9208.0\n",
      "4537.0\n",
      "1867.0\n",
      "8201.0\n",
      "3760.0\n",
      "9145.0\n",
      "7061.0\n",
      "6175.0\n",
      "3796.0\n",
      "3094.0\n",
      "597.0\n",
      "5249.0\n",
      "2694.0\n",
      "7653.0\n",
      "4674.0\n",
      "3732.0\n",
      "3193.0\n",
      "4592.0\n",
      "2185.0\n",
      "4846.0\n",
      "4501.0\n",
      "8108.0\n",
      "1515.0\n",
      "3453.0\n",
      "2431.0\n",
      "831.0\n",
      "7104.0\n",
      "7459.0\n",
      "5021.0\n",
      "2634.0\n",
      "1392.0\n",
      "2283.0\n",
      "2435.0\n",
      "5228.0\n",
      "8675.0\n",
      "9113.0\n",
      "4623.0\n",
      "8449.0\n",
      "5846.0\n",
      "7317.0\n",
      "2758.0\n",
      "6699.0\n",
      "9251.0\n",
      "1462.0\n",
      "3261.0\n",
      "795.0\n",
      "4602.0\n",
      "506.0\n",
      "5359.0\n",
      "5857.0\n",
      "5863.0\n",
      "4407.0\n",
      "8969.0\n",
      "6487.0\n",
      "5138.0\n",
      "624.0\n",
      "1975.0\n",
      "3382.0\n",
      "409.0\n",
      "2782.0\n",
      "4920.0\n",
      "3281.0\n",
      "3725.0\n",
      "2191.0\n",
      "6778.0\n",
      "6185.0\n",
      "823.0\n"
     ]
    }
   ],
   "source": [
    "customer_purchases = mycollec.find({\"Customer_id\": 50})\n",
    "\n",
    "for purchase in customer_purchases:\n",
    "    print(purchase['goods_id'])"
   ]
  },
  {
   "cell_type": "markdown",
   "metadata": {},
   "source": [
    "<div dir='rtl'>\n",
    "کالا با ایدی 3000 توسط چند نفر خریداری شده است؟\n",
    "\n",
    "distinct تکراری هارا حذف میکند.\n",
    "</div>"
   ]
  },
  {
   "cell_type": "code",
   "execution_count": 7,
   "metadata": {},
   "outputs": [
    {
     "data": {
      "text/plain": [
       "[277.0,\n",
       " 305.0,\n",
       " 402.0,\n",
       " 467.0,\n",
       " 487.0,\n",
       " 542.0,\n",
       " 583.0,\n",
       " 608.0,\n",
       " 699.0,\n",
       " 796.0,\n",
       " 815.0,\n",
       " 847.0]"
      ]
     },
     "execution_count": 7,
     "metadata": {},
     "output_type": "execute_result"
    }
   ],
   "source": [
    "customers = mycollec.find({'goods_id':3000}).distinct('Customer_id')\n",
    "customers"
   ]
  }
 ],
 "metadata": {
  "kernelspec": {
   "display_name": "base",
   "language": "python",
   "name": "python3"
  },
  "language_info": {
   "codemirror_mode": {
    "name": "ipython",
    "version": 3
   },
   "file_extension": ".py",
   "mimetype": "text/x-python",
   "name": "python",
   "nbconvert_exporter": "python",
   "pygments_lexer": "ipython3",
   "version": "3.12.4"
  }
 },
 "nbformat": 4,
 "nbformat_minor": 2
}
